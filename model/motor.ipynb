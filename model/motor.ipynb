{
 "cells": [
  {
   "cell_type": "markdown",
   "id": "2a8bed7b-4516-43be-8eb6-926b1c09bcf0",
   "metadata": {},
   "source": [
    "# Drosix motor identification\n",
    "\n",
    "## Process\n",
    "\n",
    "1. Put the drone on the test rig\n",
    "2. Place a cooking scale below one side\n",
    "3. Place a plank between the scale and the two arms so that the two arms push equaly on the scale (keep the drone as horizontal as possible)\n",
    "4. Reset the scale to supress the resting weight from the frame on the scale\n",
    "5. Activate the two motors on the opposite side of the scale\n",
    "6. After few second (stable weight) note the measure\n",
    "\n",
    "## Measures"
   ]
  },
  {
   "cell_type": "code",
   "execution_count": null,
   "id": "cd106eef-b9eb-4342-af64-0a2c32e0219b",
   "metadata": {},
   "outputs": [],
   "source": [
    "import matplotlib.pyplot as plt\n",
    "import numpy as np\n",
    "\n",
    "G = 9.8  # Earth's gravity\n",
    "throttle = np.array([0, 10, 20, 30, 35, 40, 45, 50, 55, 60, 65, 70])\n",
    "weight = np.array([0, 71, 186, 300, 370, 425, 490, 540, 600, 650, 720, 800]) * 1e-3 * G\n",
    "\n",
    "plt.plot(throttle, weight)\n",
    "plt.xlabel(\"Throttle (%)\")\n",
    "plt.ylabel(\"Thrust (N)\")\n",
    "plt.grid()\n",
    "\n"
   ]
  },
  {
   "cell_type": "markdown",
   "id": "fda9f2ce-1f44-4acc-a57e-be684b769cfc",
   "metadata": {},
   "source": [
    "## Expected result and shape\n",
    "\n",
    "The drone model gives the following mapping between the throttle $\\sigma$ and the thrust $T$:\n",
    "\n",
    "$$\n",
    "T = (\\omega_b + C_r * \\sigma)^2 * C_t\n",
    "$$\n",
    "\n",
    "Where $\\omega_b$ and $C_r$ are the linear function parameters modeling the ESC behavior and $C_t$ is the propeller thrust coefficient"
   ]
  },
  {
   "cell_type": "code",
   "execution_count": null,
   "id": "96aa5e4b-3c6e-4cdc-8992-09868b412545",
   "metadata": {},
   "outputs": [],
   "source": [
    "t_shape = np.linspace(0, 100, 10)\n",
    "w_shape = np.square(50 + 500 * t_shape) * 1e-5\n",
    "\n",
    "plt.plot(t_shape, w_shape)\n",
    "plt.xlabel(\"Throttle (%)\")\n",
    "plt.ylabel(\"Thrust\")\n",
    "plt.yticks([]) "
   ]
  },
  {
   "cell_type": "markdown",
   "id": "9e3db3a9-2593-421a-97a5-a6c4ef23d59f",
   "metadata": {},
   "source": [
    "## Identification"
   ]
  },
  {
   "cell_type": "code",
   "execution_count": null,
   "id": "aec5ad3e-7f77-4b9c-a5b8-825677f1631d",
   "metadata": {},
   "outputs": [],
   "source": [
    "from scipy.optimize import curve_fit\n",
    "\n",
    "\n",
    "def model(x, wb, cr, ct):\n",
    "    return np.square(wb + cr * x / 100) * ct * 2\n",
    "\n",
    "popt, pcov = curve_fit(model, throttle[2:], weight[2:],\n",
    "                       bounds=([10, 500, 9e-6], [200, 800, 2e-5]))\n",
    "print(popt)\n",
    "\n",
    "plt.plot(throttle, weight, 'k', label=\"Measure\")\n",
    "plt.plot(t_shape, model(t_shape, *popt), '--b', label=\"Model\")\n",
    "plt.plot(t_shape, model(t_shape, 57, 673, 1.2e-5), '--r', label=\"Drosix\")\n",
    "plt.xlabel(\"Throttle (%)\")\n",
    "plt.ylabel(\"Thrust (N)\")\n",
    "plt.legend()"
   ]
  }
 ],
 "metadata": {
  "language_info": {
   "name": "python"
  }
 },
 "nbformat": 4,
 "nbformat_minor": 5
}
